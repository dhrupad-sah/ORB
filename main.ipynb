{
 "cells": [
  {
   "cell_type": "code",
   "execution_count": 1,
   "id": "initial_id",
   "metadata": {
    "collapsed": true,
    "ExecuteTime": {
     "end_time": "2024-01-09T18:46:51.741877800Z",
     "start_time": "2024-01-09T18:46:51.594705800Z"
    }
   },
   "outputs": [],
   "source": [
    "import cv2"
   ]
  },
  {
   "cell_type": "code",
   "execution_count": 11,
   "outputs": [],
   "source": [
    "img = cv2.imread('shapes.png')\n",
    "gray = cv2.cvtColor(img, cv2.COLOR_BGR2GRAY)"
   ],
   "metadata": {
    "collapsed": false,
    "ExecuteTime": {
     "end_time": "2024-01-09T18:50:52.682315500Z",
     "start_time": "2024-01-09T18:50:52.659550300Z"
    }
   },
   "id": "779a1a0a39426ef8"
  },
  {
   "cell_type": "code",
   "execution_count": 24,
   "outputs": [],
   "source": [
    "orb = cv2.ORB_create(30)\n"
   ],
   "metadata": {
    "collapsed": false,
    "ExecuteTime": {
     "end_time": "2024-01-09T18:53:57.128450300Z",
     "start_time": "2024-01-09T18:53:57.116146200Z"
    }
   },
   "id": "56358b6e442d5010"
  },
  {
   "cell_type": "code",
   "execution_count": 25,
   "outputs": [
    {
     "name": "stdout",
     "output_type": "stream",
     "text": [
      "(129.00,158.00) = size 31.00 angle 125.70\n",
      "(162.00,158.00) = size 31.00 angle 53.15\n",
      "(172.00,125.00) = size 31.00 angle 342.70\n",
      "(145.00,105.00) = size 31.00 angle 270.84\n",
      "(118.00,125.00) = size 31.00 angle 196.37\n",
      "(93.00,114.00) = size 31.00 angle 313.59\n",
      "(93.00,151.00) = size 31.00 angle 46.05\n",
      "(145.20,104.40) = size 37.20 angle 271.15\n",
      "(171.60,124.80) = size 37.20 angle 342.84\n",
      "(118.80,123.60) = size 37.20 angle 199.46\n",
      "(92.40,150.00) = size 37.20 angle 46.30\n",
      "(92.40,114.00) = size 37.20 angle 313.48\n",
      "(144.00,105.12) = size 44.64 angle 268.14\n",
      "(119.52,123.84) = size 44.64 angle 198.93\n",
      "(171.36,123.84) = size 44.64 angle 340.19\n",
      "(92.16,113.76) = size 44.64 angle 313.24\n",
      "(191.52,131.04) = size 44.64 angle 180.24\n",
      "(145.15,105.41) = size 53.57 angle 271.39\n",
      "(171.07,124.42) = size 53.57 angle 337.96\n",
      "(119.23,124.42) = size 53.57 angle 198.86\n",
      "(91.58,114.05) = size 53.57 angle 312.85\n",
      "(145.15,105.75) = size 64.28 angle 271.69\n",
      "(170.04,124.42) = size 64.28 angle 335.88\n",
      "(118.20,124.42) = size 64.28 angle 202.11\n",
      "(144.32,104.51) = size 77.14 angle 271.24\n",
      "(92.07,114.46) = size 77.14 angle 302.43\n",
      "(87.09,77.14) = size 77.14 angle 44.90\n"
     ]
    }
   ],
   "source": [
    "keypoints, descriptors = orb.detectAndCompute(img, None)\n",
    "for x in keypoints:\n",
    "    print(\"({:.2f},{:.2f}) = size {:.2f} angle {:.2f}\".format(\n",
    "            x.pt[0], x.pt[1], x.size, x.angle))"
   ],
   "metadata": {
    "collapsed": false,
    "ExecuteTime": {
     "end_time": "2024-01-09T18:53:59.134325600Z",
     "start_time": "2024-01-09T18:53:59.120915100Z"
    }
   },
   "id": "6ca3c02a64e3fd57"
  },
  {
   "cell_type": "code",
   "execution_count": 26,
   "outputs": [],
   "source": [
    "img_kp = cv2.drawKeypoints(img, keypoints, None,\n",
    "                           flags=cv2.DRAW_MATCHES_FLAGS_DRAW_RICH_KEYPOINTS)"
   ],
   "metadata": {
    "collapsed": false,
    "ExecuteTime": {
     "end_time": "2024-01-09T18:53:59.445841Z",
     "start_time": "2024-01-09T18:53:59.427156600Z"
    }
   },
   "id": "efab44c9a2ea99a3"
  },
  {
   "cell_type": "code",
   "execution_count": null,
   "outputs": [],
   "source": [
    "cv2.imshow(\"Keypoints\", img_kp)\n",
    "cv2.waitKey(0)\n",
    "cv2.destroyAllWindows()"
   ],
   "metadata": {
    "collapsed": false,
    "is_executing": true,
    "ExecuteTime": {
     "start_time": "2024-01-09T18:53:59.819674900Z"
    }
   },
   "id": "ea103c292dbbcb7d"
  },
  {
   "cell_type": "code",
   "execution_count": null,
   "outputs": [],
   "source": [],
   "metadata": {
    "collapsed": false
   },
   "id": "1b45795671dc34f2"
  }
 ],
 "metadata": {
  "kernelspec": {
   "display_name": "Python 3",
   "language": "python",
   "name": "python3"
  },
  "language_info": {
   "codemirror_mode": {
    "name": "ipython",
    "version": 2
   },
   "file_extension": ".py",
   "mimetype": "text/x-python",
   "name": "python",
   "nbconvert_exporter": "python",
   "pygments_lexer": "ipython2",
   "version": "2.7.6"
  }
 },
 "nbformat": 4,
 "nbformat_minor": 5
}
